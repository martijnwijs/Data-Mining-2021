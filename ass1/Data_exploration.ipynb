{
 "cells": [
  {
   "cell_type": "code",
   "execution_count": 47,
   "metadata": {
    "scrolled": true
   },
   "outputs": [
    {
     "name": "stdout",
     "output_type": "stream",
     "text": [
      "datapoints mood 221\n",
      "datapoints circumplex.arousal 222\n",
      "datapoints circumplex.valence 222\n",
      "datapoints activity 1122\n",
      "datapoints screen 4401\n",
      "datapoints call 223\n",
      "datapoints sms 59\n",
      "datapoints appCat.builtin 903\n",
      "datapoints appCat.communication 2848\n",
      "datapoints appCat.entertainment 3387\n",
      "datapoints appCat.finance 72\n",
      "datapoints appCat.office 102\n",
      "datapoints appCat.other 494\n",
      "datapoints appCat.social 18\n",
      "datapoints appCat.travel 51\n",
      "datapoints appCat.unknown 46\n",
      "datapoints appCat.utilities 31\n",
      "datapoints appCat.weather 3\n"
     ]
    }
   ],
   "source": [
    "\n",
    "for key in data[3]:\n",
    "    print(\"datapoints\", key, len(data[3][key]))"
   ]
  },
  {
   "cell_type": "code",
   "execution_count": 11,
   "metadata": {},
   "outputs": [
    {
     "data": {
      "text/html": [
       "<div>\n",
       "<style scoped>\n",
       "    .dataframe tbody tr th:only-of-type {\n",
       "        vertical-align: middle;\n",
       "    }\n",
       "\n",
       "    .dataframe tbody tr th {\n",
       "        vertical-align: top;\n",
       "    }\n",
       "\n",
       "    .dataframe thead th {\n",
       "        text-align: right;\n",
       "    }\n",
       "</style>\n",
       "<table border=\"1\" class=\"dataframe\">\n",
       "  <thead>\n",
       "    <tr style=\"text-align: right;\">\n",
       "      <th></th>\n",
       "      <th>Unnamed: 0</th>\n",
       "      <th>id</th>\n",
       "      <th>time</th>\n",
       "      <th>variable</th>\n",
       "      <th>value</th>\n",
       "    </tr>\n",
       "  </thead>\n",
       "  <tbody>\n",
       "    <tr>\n",
       "      <th>0</th>\n",
       "      <td>1</td>\n",
       "      <td>AS14.01</td>\n",
       "      <td>2014-02-26 13:00:00.000</td>\n",
       "      <td>mood</td>\n",
       "      <td>6.0</td>\n",
       "    </tr>\n",
       "    <tr>\n",
       "      <th>1</th>\n",
       "      <td>2</td>\n",
       "      <td>AS14.01</td>\n",
       "      <td>2014-02-26 15:00:00.000</td>\n",
       "      <td>mood</td>\n",
       "      <td>6.0</td>\n",
       "    </tr>\n",
       "    <tr>\n",
       "      <th>2</th>\n",
       "      <td>3</td>\n",
       "      <td>AS14.01</td>\n",
       "      <td>2014-02-26 18:00:00.000</td>\n",
       "      <td>mood</td>\n",
       "      <td>6.0</td>\n",
       "    </tr>\n",
       "    <tr>\n",
       "      <th>3</th>\n",
       "      <td>4</td>\n",
       "      <td>AS14.01</td>\n",
       "      <td>2014-02-26 21:00:00.000</td>\n",
       "      <td>mood</td>\n",
       "      <td>7.0</td>\n",
       "    </tr>\n",
       "    <tr>\n",
       "      <th>4</th>\n",
       "      <td>5</td>\n",
       "      <td>AS14.01</td>\n",
       "      <td>2014-02-27 09:00:00.000</td>\n",
       "      <td>mood</td>\n",
       "      <td>6.0</td>\n",
       "    </tr>\n",
       "  </tbody>\n",
       "</table>\n",
       "</div>"
      ],
      "text/plain": [
       "   Unnamed: 0       id                     time variable  value\n",
       "0           1  AS14.01  2014-02-26 13:00:00.000     mood    6.0\n",
       "1           2  AS14.01  2014-02-26 15:00:00.000     mood    6.0\n",
       "2           3  AS14.01  2014-02-26 18:00:00.000     mood    6.0\n",
       "3           4  AS14.01  2014-02-26 21:00:00.000     mood    7.0\n",
       "4           5  AS14.01  2014-02-27 09:00:00.000     mood    6.0"
      ]
     },
     "execution_count": 11,
     "metadata": {},
     "output_type": "execute_result"
    }
   ],
   "source": [
    "# data cleaning\n",
    "import numpy as np \n",
    "import pandas as pd\n",
    "import scipy\n",
    "from scipy.stats import zscore\n",
    "import seaborn as sns\n",
    "\n",
    "dataset = \"dataset_mood_smartphone.csv\" \n",
    "df = pd.read_csv(dataset) # dataframe in pandas\n",
    "df_screen = df[df[\"variable\"]==\"screen\"]\n",
    "df.head()\n"
   ]
  },
  {
   "cell_type": "code",
   "execution_count": 7,
   "metadata": {},
   "outputs": [
    {
     "data": {
      "text/html": [
       "<div>\n",
       "<style scoped>\n",
       "    .dataframe tbody tr th:only-of-type {\n",
       "        vertical-align: middle;\n",
       "    }\n",
       "\n",
       "    .dataframe tbody tr th {\n",
       "        vertical-align: top;\n",
       "    }\n",
       "\n",
       "    .dataframe thead th {\n",
       "        text-align: right;\n",
       "    }\n",
       "</style>\n",
       "<table border=\"1\" class=\"dataframe\">\n",
       "  <thead>\n",
       "    <tr style=\"text-align: right;\">\n",
       "      <th></th>\n",
       "      <th>Unnamed: 0</th>\n",
       "      <th>id</th>\n",
       "      <th>time</th>\n",
       "      <th>variable</th>\n",
       "      <th>value</th>\n",
       "    </tr>\n",
       "  </thead>\n",
       "  <tbody>\n",
       "    <tr>\n",
       "      <th>16927</th>\n",
       "      <td>16928</td>\n",
       "      <td>AS14.01</td>\n",
       "      <td>2014-03-20 22:00:00.000</td>\n",
       "      <td>activity</td>\n",
       "      <td>0.071429</td>\n",
       "    </tr>\n",
       "    <tr>\n",
       "      <th>16928</th>\n",
       "      <td>16929</td>\n",
       "      <td>AS14.01</td>\n",
       "      <td>2014-03-20 23:00:00.000</td>\n",
       "      <td>activity</td>\n",
       "      <td>0.091667</td>\n",
       "    </tr>\n",
       "    <tr>\n",
       "      <th>16929</th>\n",
       "      <td>16930</td>\n",
       "      <td>AS14.01</td>\n",
       "      <td>2014-03-21 00:00:00.000</td>\n",
       "      <td>activity</td>\n",
       "      <td>0.008333</td>\n",
       "    </tr>\n",
       "    <tr>\n",
       "      <th>16930</th>\n",
       "      <td>16931</td>\n",
       "      <td>AS14.01</td>\n",
       "      <td>2014-03-21 01:00:00.000</td>\n",
       "      <td>activity</td>\n",
       "      <td>0.000000</td>\n",
       "    </tr>\n",
       "    <tr>\n",
       "      <th>16931</th>\n",
       "      <td>16932</td>\n",
       "      <td>AS14.01</td>\n",
       "      <td>2014-03-21 02:00:00.000</td>\n",
       "      <td>activity</td>\n",
       "      <td>0.000000</td>\n",
       "    </tr>\n",
       "    <tr>\n",
       "      <th>...</th>\n",
       "      <td>...</td>\n",
       "      <td>...</td>\n",
       "      <td>...</td>\n",
       "      <td>...</td>\n",
       "      <td>...</td>\n",
       "    </tr>\n",
       "    <tr>\n",
       "      <th>17978</th>\n",
       "      <td>17979</td>\n",
       "      <td>AS14.01</td>\n",
       "      <td>2014-05-05 06:00:00.000</td>\n",
       "      <td>activity</td>\n",
       "      <td>0.000000</td>\n",
       "    </tr>\n",
       "    <tr>\n",
       "      <th>17979</th>\n",
       "      <td>17980</td>\n",
       "      <td>AS14.01</td>\n",
       "      <td>2014-05-05 07:00:00.000</td>\n",
       "      <td>activity</td>\n",
       "      <td>0.000000</td>\n",
       "    </tr>\n",
       "    <tr>\n",
       "      <th>17980</th>\n",
       "      <td>17981</td>\n",
       "      <td>AS14.01</td>\n",
       "      <td>2014-05-05 08:00:00.000</td>\n",
       "      <td>activity</td>\n",
       "      <td>0.000000</td>\n",
       "    </tr>\n",
       "    <tr>\n",
       "      <th>17981</th>\n",
       "      <td>17982</td>\n",
       "      <td>AS14.01</td>\n",
       "      <td>2014-05-05 09:00:00.000</td>\n",
       "      <td>activity</td>\n",
       "      <td>0.010638</td>\n",
       "    </tr>\n",
       "    <tr>\n",
       "      <th>17982</th>\n",
       "      <td>17983</td>\n",
       "      <td>AS14.01</td>\n",
       "      <td>2014-05-05 10:00:00.000</td>\n",
       "      <td>activity</td>\n",
       "      <td>0.000000</td>\n",
       "    </tr>\n",
       "  </tbody>\n",
       "</table>\n",
       "<p>1056 rows × 5 columns</p>\n",
       "</div>"
      ],
      "text/plain": [
       "       Unnamed: 0       id                     time  variable     value\n",
       "16927       16928  AS14.01  2014-03-20 22:00:00.000  activity  0.071429\n",
       "16928       16929  AS14.01  2014-03-20 23:00:00.000  activity  0.091667\n",
       "16929       16930  AS14.01  2014-03-21 00:00:00.000  activity  0.008333\n",
       "16930       16931  AS14.01  2014-03-21 01:00:00.000  activity  0.000000\n",
       "16931       16932  AS14.01  2014-03-21 02:00:00.000  activity  0.000000\n",
       "...           ...      ...                      ...       ...       ...\n",
       "17978       17979  AS14.01  2014-05-05 06:00:00.000  activity  0.000000\n",
       "17979       17980  AS14.01  2014-05-05 07:00:00.000  activity  0.000000\n",
       "17980       17981  AS14.01  2014-05-05 08:00:00.000  activity  0.000000\n",
       "17981       17982  AS14.01  2014-05-05 09:00:00.000  activity  0.010638\n",
       "17982       17983  AS14.01  2014-05-05 10:00:00.000  activity  0.000000\n",
       "\n",
       "[1056 rows x 5 columns]"
      ]
     },
     "execution_count": 7,
     "metadata": {},
     "output_type": "execute_result"
    }
   ],
   "source": [
    "df_act = df[df[\"variable\"]==\"activity\"]\n",
    "df_act[df_act[\"id\"]==\"AS14.01\"]\n"
   ]
  },
  {
   "cell_type": "code",
   "execution_count": 21,
   "metadata": {},
   "outputs": [
    {
     "name": "stdout",
     "output_type": "stream",
     "text": [
      "        Unnamed: 0       id                     time variable    value\n",
      "39892      39893.0  AS14.01  2014-03-20 23:14:58.200   screen   58.846\n",
      "39893      39894.0  AS14.01  2014-03-20 23:17:23.092   screen    9.217\n",
      "39894      39895.0  AS14.01  2014-03-20 23:20:43.698   screen   19.829\n",
      "39895      39896.0  AS14.01  2014-03-20 23:22:05.476   screen  483.510\n",
      "39897      39898.0  AS14.01  2014-03-20 23:45:31.217   screen   25.123\n",
      "...            ...      ...                      ...      ...      ...\n",
      "136464    136465.0  AS14.33  2014-05-30 21:28:20.486   screen   12.709\n",
      "136465    136466.0  AS14.33  2014-05-30 21:34:32.516   screen  133.394\n",
      "136466    136467.0  AS14.33  2014-05-30 21:38:25.263   screen  164.072\n",
      "136467    136468.0  AS14.33  2014-05-30 21:47:30.344   screen  504.017\n",
      "136468    136469.0  AS14.33  2014-05-30 21:58:51.355   screen  526.137\n",
      "\n",
      "[95309 rows x 5 columns]\n"
     ]
    }
   ],
   "source": [
    "df_screen = df[df[\"variable\"]==\"screen\"]  # describe statistics\n",
    "df_screen.describe()\n",
    "print(df_screen)"
   ]
  },
  {
   "cell_type": "code",
   "execution_count": 4,
   "metadata": {},
   "outputs": [
    {
     "data": {
      "text/plain": [
       "<AxesSubplot:xlabel='value'>"
      ]
     },
     "execution_count": 4,
     "metadata": {},
     "output_type": "execute_result"
    },
    {
     "data": {
      "image/png": "[encoded data removed]",
      "text/plain": [
       "<Figure size 2160x1152 with 1 Axes>"
      ]
     },
     "metadata": {
      "needs_background": "light"
     },
     "output_type": "display_data"
    }
   ],
   "source": [
    "# boxplot of data\n",
    "import matplotlib.pyplot as plt\n",
    "plt.figure(figsize=(30,16))\n",
    "sns.boxplot(data=df_screen, x='value')\n",
    "### data doesn't look normal, so we probably need a ranked correlation test "
   ]
  },
  {
   "cell_type": "code",
   "execution_count": 2,
   "metadata": {},
   "outputs": [],
   "source": [
    "def filter_outliers(df, category):\n",
    "    \"filters outliers and plots histograms\"\n",
    "    df_cat = df[df[\"variable\"]==category]  # describe statistics\n",
    "    df_cat = df_cat[df_cat[\"value\"] < df_screen[\"value\"].std()*3]  # filter outliers for screen 3 stdev \n",
    "    df[df[\"variable\"]==category] = df_cat  # replace in dataframe\n",
    "    df_cat.hist()\n",
    "    return df\n",
    "\n"
   ]
  },
  {
   "cell_type": "code",
   "execution_count": null,
   "metadata": {},
   "outputs": [],
   "source": [
    "\"\"\"When normalising inputs to a Neural net, you want the numbers to be in a similar range\n",
    "across different inputs, so inputs which tend to have much larger absolute values don't dwarf the \n",
    "contributions from smaller ones. You need to preserve the Y values (frequencies) but can change the X \n",
    "scale with various transforms (potentially non-linear ones).\n",
    "Here you want to \"squash\" the distribution along the x axis, so the larger X values are \"squashed\" more,\n",
    "and so the range of X is of the same order of magnitude as the other inputs, without destroying the frequency information.\n",
    "Taking a log (base 2 or 10) of X is the obvious way to do that. If you use log10 your data will range from 0->2.4 or so.\n",
    "You can get away with this in your distribution because the lowest value is 1. It's trickier if your min value is zero or \n",
    "close to zero.\n",
    "You may then want to do a further normalisation of subtracting the mean, and dividing by the standard deviation, so \n",
    "the variance is 1 - the most common \"standard\" nn normalisation technique.\"\"\""
   ]
  },
  {
   "cell_type": "code",
   "execution_count": 33,
   "metadata": {},
   "outputs": [
    {
     "data": {
      "image/png": "[encoded data removed]",
      "text/plain": [
       "<Figure size 432x288 with 1 Axes>"
      ]
     },
     "metadata": {
      "needs_background": "light"
     },
     "output_type": "display_data"
    },
    {
     "data": {
      "text/plain": [
       "array([[<AxesSubplot:title={'center':'0'}>]], dtype=object)"
      ]
     },
     "execution_count": 33,
     "metadata": {},
     "output_type": "execute_result"
    },
    {
     "data": {
      "image/png": "[encoded data removed]",
      "text/plain": [
       "<Figure size 432x288 with 1 Axes>"
      ]
     },
     "metadata": {
      "needs_background": "light"
     },
     "output_type": "display_data"
    }
   ],
   "source": [
    "from sklearn.preprocessing import PowerTransformer, MinMaxScaler, normalize, QuantileTransformer\n",
    "import matplotlib.pyplot as plt\n",
    "pt = QuantileTransformer(output_distribution='normal')  # transform to normal distribution\n",
    "x = df_screen[\"value\"].values\n",
    "\n",
    "#after = pt.fit_transform(x)\n",
    "#after = np.log(after)\n",
    "#after = normalize(x, norm='l2')\n",
    "afterdf = pt.fit_transform(x.reshape(-1, 1))\n",
    "plt.hist(afterdf)\n",
    "plt.show()\n",
    "df2 = pd.DataFrame(afterdf)\n",
    "df2.hist()"
   ]
  },
  {
   "cell_type": "code",
   "execution_count": 7,
   "metadata": {},
   "outputs": [
    {
     "name": "stdout",
     "output_type": "stream",
     "text": [
      "first done\n",
      "       Unnamed: 0       id                     time variable     value\n",
      "39892       39893  AS14.01  2014-03-20 23:14:58.200   screen  0.627201\n",
      "39893       39894  AS14.01  2014-03-20 23:17:23.092   screen -0.481544\n",
      "39894       39895  AS14.01  2014-03-20 23:20:43.698   screen -0.008381\n",
      "39895       39896  AS14.01  2014-03-20 23:22:05.476   screen  1.964668\n",
      "39896       39897  AS14.01  2014-03-20 23:31:08.088   screen  2.258427\n",
      "...           ...      ...                      ...      ...       ...\n",
      "136465     136466  AS14.33  2014-05-30 21:34:32.516   screen  1.191570\n",
      "136466     136467  AS14.33  2014-05-30 21:38:25.263   screen  1.324900\n",
      "136467     136468  AS14.33  2014-05-30 21:47:30.344   screen  1.990797\n",
      "136468     136469  AS14.33  2014-05-30 21:58:51.355   screen  2.013272\n",
      "136469     136470  AS14.33  2014-05-30 22:18:11.591   screen  2.285727\n",
      "\n",
      "[96578 rows x 5 columns]\n"
     ]
    },
    {
     "name": "stderr",
     "output_type": "stream",
     "text": [
      "C:\\Users\\marti\\anaconda3\\lib\\site-packages\\sklearn\\preprocessing\\_data.py:2367: UserWarning: n_quantiles (1000) is greater than the total number of samples (939). n_quantiles is set to n_samples.\n",
      "  warnings.warn(\"n_quantiles (%s) is greater than the total number \"\n",
      "C:\\Users\\marti\\anaconda3\\lib\\site-packages\\sklearn\\preprocessing\\_data.py:2367: UserWarning: n_quantiles (1000) is greater than the total number of samples (255). n_quantiles is set to n_samples.\n",
      "  warnings.warn(\"n_quantiles (%s) is greater than the total number \"\n"
     ]
    }
   ],
   "source": [
    "from sklearn.preprocessing import QuantileTransformer\n",
    "\n",
    "def normalize_data(df, category):\n",
    "\n",
    "    #df = pd.read_csv(dataset) # dataframe in pandas\n",
    "\n",
    "    pt = QuantileTransformer(output_distribution='normal')  # transform to normal distribution\n",
    "    df_cat = df[df[\"variable\"]==category]\n",
    "    x = df_cat[\"value\"].values  # get the values \n",
    "    normdf = np.squeeze(pt.fit_transform(x.reshape(-1, 1)).T) #transform \n",
    "    df_catn = df_cat.to_numpy() # transform into numpy\n",
    "    df_catn[:,4] = normdf  # replace column\n",
    "    df_update = pd.DataFrame(data=df_catn, index=df[df[\"variable\"]==category].index.values.tolist(), columns=df.columns)# create new df\n",
    "\n",
    "    df_new = df_update.combine_first(df)  #.reset_index(level=1, drop=True).astype(int).reset_index()\n",
    "\n",
    "    df_new['value'] = df_new['value'].fillna(0)  # delete NA values ??\n",
    "    df_new['value'].astype(float) # change dt object (from numpy), to float\n",
    "    #df_new[df_new[\"variable\"]==category].hist() # show histogram of normalized data\n",
    "    return(df_new)\n",
    "\n",
    "df = normalize_data(df, \"screen\")\n",
    "print(\"first done\")\n",
    "print(df[df[\"variable\"]==\"screen\"])\n",
    "\n",
    "df = normalize_data(df, \"appCat.builtin\")\n",
    "df = normalize_data(df, \"appCat.communication\")\n",
    "df = normalize_data(df, \"appCat.entertainment\")\n",
    "df = normalize_data(df, \"appCat.office\")\n",
    "df = normalize_data(df, \"appCat.other\")\n",
    "df = normalize_data(df, \"appCat.social\")\n",
    "df = normalize_data(df, \"appCat.travel\")\n",
    "df = normalize_data(df, \"appCat.unknown\")\n",
    "df = normalize_data(df, \"appCat.utilities\")\n",
    "df = normalize_data(df, \"appCat.weather\")\n"
   ]
  },
  {
   "cell_type": "code",
   "execution_count": 8,
   "metadata": {},
   "outputs": [
    {
     "data": {
      "image/png": "[encoded data removed]",
      "text/plain": [
       "<Figure size 432x288 with 1 Axes>"
      ]
     },
     "metadata": {
      "needs_background": "light"
     },
     "output_type": "display_data"
    },
    {
     "data": {
      "image/png": "[encoded data removed]",
      "text/plain": [
       "<Figure size 432x288 with 1 Axes>"
      ]
     },
     "metadata": {
      "needs_background": "light"
     },
     "output_type": "display_data"
    },
    {
     "data": {
      "image/png": "[encoded data removed]",
      "text/plain": [
       "<Figure size 432x288 with 1 Axes>"
      ]
     },
     "metadata": {
      "needs_background": "light"
     },
     "output_type": "display_data"
    },
    {
     "data": {
      "image/png": "[encoded data removed]",
      "text/plain": [
       "<Figure size 432x288 with 1 Axes>"
      ]
     },
     "metadata": {
      "needs_background": "light"
     },
     "output_type": "display_data"
    },
    {
     "data": {
      "image/png": "[encoded data removed]",
      "text/plain": [
       "<Figure size 432x288 with 1 Axes>"
      ]
     },
     "metadata": {
      "needs_background": "light"
     },
     "output_type": "display_data"
    },
    {
     "data": {
      "image/png": "[encoded data removed]",
      "text/plain": [
       "<Figure size 432x288 with 1 Axes>"
      ]
     },
     "metadata": {
      "needs_background": "light"
     },
     "output_type": "display_data"
    },
    {
     "data": {
      "image/png": "[encoded data removed]",
      "text/plain": [
       "<Figure size 432x288 with 1 Axes>"
      ]
     },
     "metadata": {
      "needs_background": "light"
     },
     "output_type": "display_data"
    },
    {
     "data": {
      "image/png": "[encoded data removed]",
      "text/plain": [
       "<Figure size 432x288 with 1 Axes>"
      ]
     },
     "metadata": {
      "needs_background": "light"
     },
     "output_type": "display_data"
    },
    {
     "data": {
      "image/png": "[encoded data removed]",
      "text/plain": [
       "<Figure size 432x288 with 1 Axes>"
      ]
     },
     "metadata": {
      "needs_background": "light"
     },
     "output_type": "display_data"
    },
    {
     "data": {
      "image/png": "[encoded data removed]",
      "text/plain": [
       "<Figure size 432x288 with 1 Axes>"
      ]
     },
     "metadata": {
      "needs_background": "light"
     },
     "output_type": "display_data"
    },
    {
     "data": {
      "image/png": "[encoded data removed]",
      "text/plain": [
       "<Figure size 432x288 with 1 Axes>"
      ]
     },
     "metadata": {
      "needs_background": "light"
     },
     "output_type": "display_data"
    }
   ],
   "source": [
    "df = filter_outliers(df, \"screen\")\n",
    "df = filter_outliers(df, \"appCat.builtin\")\n",
    "df = filter_outliers(df, \"appCat.communication\")\n",
    "df = filter_outliers(df, \"appCat.entertainment\")\n",
    "df = filter_outliers(df, \"appCat.office\")\n",
    "df = filter_outliers(df, \"appCat.other\")\n",
    "df = filter_outliers(df, \"appCat.social\")\n",
    "df = filter_outliers(df, \"appCat.travel\")\n",
    "df = filter_outliers(df, \"appCat.unknown\")\n",
    "df = filter_outliers(df, \"appCat.utilities\")\n",
    "df = filter_outliers(df, \"appCat.weather\")"
   ]
  }
 ],
 "metadata": {
  "kernelspec": {
   "display_name": "Python 3",
   "language": "python",
   "name": "python3"
  },
  "language_info": {
   "codemirror_mode": {
    "name": "ipython",
    "version": 3
   },
   "file_extension": ".py",
   "mimetype": "text/x-python",
   "name": "python",
   "nbconvert_exporter": "python",
   "pygments_lexer": "ipython3",
   "version": "3.8.5"
  }
 },
 "nbformat": 4,
 "nbformat_minor": 4
}
