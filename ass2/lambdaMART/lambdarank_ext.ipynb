{
 "cells": [
  {
   "cell_type": "code",
   "execution_count": 1,
   "id": "planned-flooring",
   "metadata": {},
   "outputs": [],
   "source": [
    "import pandas as pd\n",
    "import numpy as np\n",
    "from LambdaRankNN import LambdaRankNN"
   ]
  },
  {
   "cell_type": "code",
   "execution_count": null,
   "id": "physical-basis",
   "metadata": {},
   "outputs": [],
   "source": [
    "# define variables \n",
    "DATA =  \"../../data/set_neg_zero_aff1_down.csv\"\n",
    "col_remove = True \n",
    "n_train = 300000\n",
    "n_test = 100000\n",
    "n_trees = 10\n",
    "learning_rate = 0.01"
   ]
  },
  {
   "cell_type": "code",
   "execution_count": 2,
   "id": "prescribed-disney",
   "metadata": {},
   "outputs": [],
   "source": [
    "TRAIN_DATA = \"../data/set_neg_zero_aff1.csv\"\n",
    "\n",
    "# Read the data into memory\n",
    "training_data = pd.read_csv(TRAIN_DATA,nrows= 2500000)\n",
    "validation_data = pd.read_csv(TRAIN_DATA,skiprows=2500000,nrows = 1000000, header=None, names= training_data.columns)\n",
    "test_data = pd.read_csv(TRAIN_DATA,skiprows= 3500000,nrows = 1000000, header=None,names= training_data.columns)\n",
    "\n",
    "col_names = list(training_data.columns)\n",
    "col_names.remove('click_bool')\n",
    "col_names.remove('booking_bool')\n",
    "col_names.remove('srch_id')\n",
    "col_names.remove('gross_bookings_usd')\n",
    "col_names.remove('date_time')\n",
    "\n",
    "# A relevance function to define the relevance score for NDCG\n",
    "def relevance(a):\n",
    "    if a[0] == a[1] == 1:\n",
    "        return 5\n",
    "    elif a[0] == 1 and a[1] == 0:\n",
    "        return 1\n",
    "    else:\n",
    "        return 0"
   ]
  },
  {
   "cell_type": "code",
   "execution_count": 3,
   "id": "clean-yahoo",
   "metadata": {},
   "outputs": [],
   "source": [
    "X_train = training_data[col_names].values\n",
    "y_train = training_data.iloc[:,-2:].apply(relevance,axis = 1)\n",
    "q_train = training_data.srch_id\n",
    "\n",
    "X_test = test_data[col_names].values\n",
    "y_test = test_data.iloc[:,-2:].apply(relevance,axis = 1)\n",
    "q_test = test_data.srch_id"
   ]
  },
  {
   "cell_type": "code",
   "execution_count": 4,
   "id": "rocky-colleague",
   "metadata": {},
   "outputs": [
    {
     "name": "stdout",
     "output_type": "stream",
     "text": [
      "(2500000, 49) (2500000,) (2500000,)\n"
     ]
    }
   ],
   "source": [
    "X = X_train\n",
    "y = np.array(y_train)\n",
    "q = np.array(q_train)\n",
    "print(X.shape, y.shape, q.shape)"
   ]
  },
  {
   "cell_type": "code",
   "execution_count": 5,
   "id": "together-comparative",
   "metadata": {},
   "outputs": [
    {
     "name": "stdout",
     "output_type": "stream",
     "text": [
      "(2500000, 49)\n"
     ]
    }
   ],
   "source": [
    "print(X.shape)"
   ]
  },
  {
   "cell_type": "code",
   "execution_count": 6,
   "id": "resident-landscape",
   "metadata": {},
   "outputs": [
    {
     "ename": "ValueError",
     "evalue": "Expect x to be a non-empty array or dataset.",
     "output_type": "error",
     "traceback": [
      "\u001b[0;31m---------------------------------------------------------------------------\u001b[0m",
      "\u001b[0;31mValueError\u001b[0m                                Traceback (most recent call last)",
      "\u001b[0;32m<ipython-input-6-56e8eb3456b9>\u001b[0m in \u001b[0;36m<module>\u001b[0;34m\u001b[0m\n\u001b[1;32m      1\u001b[0m \u001b[0;31m# train model\u001b[0m\u001b[0;34m\u001b[0m\u001b[0;34m\u001b[0m\u001b[0;34m\u001b[0m\u001b[0m\n\u001b[1;32m      2\u001b[0m \u001b[0mranker\u001b[0m \u001b[0;34m=\u001b[0m \u001b[0mLambdaRankNN\u001b[0m\u001b[0;34m(\u001b[0m\u001b[0minput_size\u001b[0m\u001b[0;34m=\u001b[0m\u001b[0mX\u001b[0m\u001b[0;34m.\u001b[0m\u001b[0mshape\u001b[0m\u001b[0;34m[\u001b[0m\u001b[0;36m1\u001b[0m\u001b[0;34m]\u001b[0m\u001b[0;34m,\u001b[0m \u001b[0mhidden_layer_sizes\u001b[0m\u001b[0;34m=\u001b[0m\u001b[0;34m(\u001b[0m\u001b[0;36m16\u001b[0m\u001b[0;34m,\u001b[0m\u001b[0;36m8\u001b[0m\u001b[0;34m,\u001b[0m\u001b[0;34m)\u001b[0m\u001b[0;34m,\u001b[0m \u001b[0mactivation\u001b[0m\u001b[0;34m=\u001b[0m\u001b[0;34m(\u001b[0m\u001b[0;34m'relu'\u001b[0m\u001b[0;34m,\u001b[0m \u001b[0;34m'relu'\u001b[0m\u001b[0;34m,\u001b[0m\u001b[0;34m)\u001b[0m\u001b[0;34m,\u001b[0m \u001b[0msolver\u001b[0m\u001b[0;34m=\u001b[0m\u001b[0;34m'adam'\u001b[0m\u001b[0;34m)\u001b[0m\u001b[0;34m\u001b[0m\u001b[0;34m\u001b[0m\u001b[0m\n\u001b[0;32m----> 3\u001b[0;31m \u001b[0mranker\u001b[0m\u001b[0;34m.\u001b[0m\u001b[0mfit\u001b[0m\u001b[0;34m(\u001b[0m\u001b[0mX\u001b[0m\u001b[0;34m,\u001b[0m \u001b[0my\u001b[0m\u001b[0;34m,\u001b[0m \u001b[0mq\u001b[0m\u001b[0;34m,\u001b[0m \u001b[0mepochs\u001b[0m\u001b[0;34m=\u001b[0m\u001b[0;36m1\u001b[0m\u001b[0;34m)\u001b[0m\u001b[0;34m\u001b[0m\u001b[0;34m\u001b[0m\u001b[0m\n\u001b[0m",
      "\u001b[0;32m~/miniconda3/envs/IR1/lib/python3.7/site-packages/LambdaRankNN/__init__.py\u001b[0m in \u001b[0;36mfit\u001b[0;34m(self, X, y, qid, batch_size, epochs, verbose, validation_split)\u001b[0m\n\u001b[1;32m    121\u001b[0m         \u001b[0mX1_trans\u001b[0m\u001b[0;34m,\u001b[0m \u001b[0mX2_trans\u001b[0m\u001b[0;34m,\u001b[0m \u001b[0my_trans\u001b[0m\u001b[0;34m,\u001b[0m \u001b[0mweight\u001b[0m \u001b[0;34m=\u001b[0m \u001b[0mself\u001b[0m\u001b[0;34m.\u001b[0m\u001b[0m_transform_pairwise\u001b[0m\u001b[0;34m(\u001b[0m\u001b[0mX\u001b[0m\u001b[0;34m,\u001b[0m \u001b[0my\u001b[0m\u001b[0;34m,\u001b[0m \u001b[0mqid\u001b[0m\u001b[0;34m)\u001b[0m\u001b[0;34m\u001b[0m\u001b[0;34m\u001b[0m\u001b[0m\n\u001b[1;32m    122\u001b[0m         self.model.fit([X1_trans, X2_trans], y_trans, sample_weight=weight, batch_size=batch_size, epochs=epochs,\n\u001b[0;32m--> 123\u001b[0;31m                        verbose=verbose, validation_split=validation_split)\n\u001b[0m\u001b[1;32m    124\u001b[0m         \u001b[0mself\u001b[0m\u001b[0;34m.\u001b[0m\u001b[0mevaluate\u001b[0m\u001b[0;34m(\u001b[0m\u001b[0mX\u001b[0m\u001b[0;34m,\u001b[0m \u001b[0my\u001b[0m\u001b[0;34m,\u001b[0m \u001b[0mqid\u001b[0m\u001b[0;34m)\u001b[0m\u001b[0;34m\u001b[0m\u001b[0;34m\u001b[0m\u001b[0m\n\u001b[1;32m    125\u001b[0m \u001b[0;34m\u001b[0m\u001b[0m\n",
      "\u001b[0;32m~/miniconda3/envs/IR1/lib/python3.7/site-packages/keras/engine/training.py\u001b[0m in \u001b[0;36mfit\u001b[0;34m(self, x, y, batch_size, epochs, verbose, callbacks, validation_split, validation_data, shuffle, class_weight, sample_weight, initial_epoch, steps_per_epoch, validation_steps, validation_batch_size, validation_freq, max_queue_size, workers, use_multiprocessing)\u001b[0m\n\u001b[1;32m   1167\u001b[0m         \u001b[0mlogs\u001b[0m \u001b[0;34m=\u001b[0m \u001b[0mtf_utils\u001b[0m\u001b[0;34m.\u001b[0m\u001b[0msync_to_numpy_or_python_type\u001b[0m\u001b[0;34m(\u001b[0m\u001b[0mlogs\u001b[0m\u001b[0;34m)\u001b[0m\u001b[0;34m\u001b[0m\u001b[0;34m\u001b[0m\u001b[0m\n\u001b[1;32m   1168\u001b[0m         \u001b[0;32mif\u001b[0m \u001b[0mlogs\u001b[0m \u001b[0;32mis\u001b[0m \u001b[0;32mNone\u001b[0m\u001b[0;34m:\u001b[0m\u001b[0;34m\u001b[0m\u001b[0;34m\u001b[0m\u001b[0m\n\u001b[0;32m-> 1169\u001b[0;31m           \u001b[0;32mraise\u001b[0m \u001b[0mValueError\u001b[0m\u001b[0;34m(\u001b[0m\u001b[0;34m'Expect x to be a non-empty array or dataset.'\u001b[0m\u001b[0;34m)\u001b[0m\u001b[0;34m\u001b[0m\u001b[0;34m\u001b[0m\u001b[0m\n\u001b[0m\u001b[1;32m   1170\u001b[0m         \u001b[0mepoch_logs\u001b[0m \u001b[0;34m=\u001b[0m \u001b[0mcopy\u001b[0m\u001b[0;34m.\u001b[0m\u001b[0mcopy\u001b[0m\u001b[0;34m(\u001b[0m\u001b[0mlogs\u001b[0m\u001b[0;34m)\u001b[0m\u001b[0;34m\u001b[0m\u001b[0;34m\u001b[0m\u001b[0m\n\u001b[1;32m   1171\u001b[0m \u001b[0;34m\u001b[0m\u001b[0m\n",
      "\u001b[0;31mValueError\u001b[0m: Expect x to be a non-empty array or dataset."
     ]
    }
   ],
   "source": [
    "# train model\n",
    "ranker = LambdaRankNN(input_size=X.shape[1], hidden_layer_sizes=(16,8,), activation=('relu', 'relu',), solver='adam')\n",
    "ranker.fit(X, y, q, epochs=1)"
   ]
  },
  {
   "cell_type": "code",
   "execution_count": 62,
   "id": "devoted-yellow",
   "metadata": {},
   "outputs": [
    {
     "name": "stdout",
     "output_type": "stream",
     "text": [
      "ndcg@38: 0.4926595289099743\n"
     ]
    }
   ],
   "source": [
    "y_pred = ranker.predict(X)\n",
    "ranker.evaluate(X, y, q, eval_at=38)"
   ]
  },
  {
   "cell_type": "code",
   "execution_count": 63,
   "id": "killing-return",
   "metadata": {},
   "outputs": [
    {
     "name": "stdout",
     "output_type": "stream",
     "text": [
      "[-5.982824  -5.9920287 -5.747039  ... -4.3107195 -2.9092398 -2.6455505]\n"
     ]
    }
   ],
   "source": [
    "print(y_pred)"
   ]
  },
  {
   "cell_type": "code",
   "execution_count": 64,
   "id": "chronic-moscow",
   "metadata": {
    "scrolled": true
   },
   "outputs": [
    {
     "name": "stdout",
     "output_type": "stream",
     "text": [
      "(1000000, 49) (1000000,) (1000000,)\n",
      "[[  5. 219. -10. ...   0.   0.   0.]\n",
      " [  5. 219. -10. ...   0.   0.   0.]\n",
      " [  5. 219. -10. ...   0.   0.   0.]\n",
      " ...\n",
      " [  5. 219. -10. ...   0.   0.   0.]\n",
      " [  5. 219. -10. ...   0.   0.   0.]\n",
      " [  5. 219. -10. ...   1.   0.  10.]]\n"
     ]
    }
   ],
   "source": [
    "X_test = X_test\n",
    "y_test = np.array(y_test)\n",
    "q_test = np.array(q_test)\n",
    "print(X_test.shape, y_test.shape, q_test.shape)"
   ]
  },
  {
   "cell_type": "code",
   "execution_count": 61,
   "id": "adolescent-channels",
   "metadata": {},
   "outputs": [
    {
     "name": "stdout",
     "output_type": "stream",
     "text": [
      "1000000\n"
     ]
    }
   ],
   "source": [
    "y_test_pred = ranker.predict(X_test)\n",
    "\n",
    "# ranker.evaluate(X_test, y_test, q_test, eval_at=38)\n",
    "\n",
    "print(len(y_test_pred))"
   ]
  },
  {
   "cell_type": "code",
   "execution_count": null,
   "id": "focal-smith",
   "metadata": {},
   "outputs": [],
   "source": []
  }
 ],
 "metadata": {
  "kernelspec": {
   "display_name": "IR1",
   "language": "python",
   "name": "ir1"
  },
  "language_info": {
   "codemirror_mode": {
    "name": "ipython",
    "version": 3
   },
   "file_extension": ".py",
   "mimetype": "text/x-python",
   "name": "python",
   "nbconvert_exporter": "python",
   "pygments_lexer": "ipython3",
   "version": "3.7.9"
  }
 },
 "nbformat": 4,
 "nbformat_minor": 5
}
